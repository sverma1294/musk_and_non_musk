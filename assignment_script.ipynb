#importing all the libraries
import numpy as np
import matplotlib.pyplot as plt
import pandas as pd

#import the file from where it saved
dataset=pd.read_csv("E:\musk_csv.csv")

#head is used for the first five column 
dataset.head()

#shape is used for knowing the dimension
dataset.shape

#In this line i remove the id and conformation_name
dataset.drop(["ID", "conformation_name"], axis = 1, inplace = True) 

#head is used for the first five column
dataset.head()

#In this line I divide the variable into attributes and label that is independent and dependent
X = dataset.iloc[:, 1:170]
y = dataset.select_dtypes(include=[object])

#check the y variable column
y.head()

#check all the unique values in the molecule_name variable
y.molecule_name.unique()

#In this line I train and test that is spliting the dataset
from sklearn.model_selection import train_test_split  
X_train, X_test, y_train, y_test = train_test_split(X, y, test_size = 0.2) 

# In this lines we the data uniform by using a standardscaler function
from sklearn.preprocessing import StandardScaler
scaler = StandardScaler()
scaler.fit(X_train)
X_train = scaler.transform(X_train)
X_test = scaler.transform(X_test)

#In this lines we import the MLP classifier and fit it by using the fit function
from sklearn.neural_network import MLPClassifier
mlp=MLPClassifier(hidden_layer_sizes=(10,10,10),max_iter=1000)
mlp.fit(X_train,y_train.values.ravel())


#In this line I predict the test data 
predictions = mlp.predict(X_test)

# In this line I get the classification_metrics,confusion_matrix and Accuracy_Score
from sklearn.metrics import classification_report,confusion_matrix,accuracy_score
print(confusion_matrix(y_test,predictions))
print(classification_report(y_test,predictions))
print(accuracy_score(y_test,predictions))

#for plotting a Model Loss
plt.hist(['loss'])
plt.hist(['val_loss'])
plt.title('Model loss')
plt.ylabel('Loss')
plt.xlabel('Epoch')
plt.legend(['Train', 'Val'], loc='upper right')
plt.show()


#for plotting the model Accuracy
plt.hist(['acc'])
plt.hist(['val_acc'])
plt.title('Model accuracy')
plt.ylabel('Accuracy')
plt.xlabel('Epoch')
plt.legend(['Train', 'Val'], loc='lower right')
plt.show()



























 
 
 
 
 
 
 
 
 
 
 
 
 
 
 
 
 
 